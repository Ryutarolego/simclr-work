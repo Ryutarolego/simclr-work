{
 "cells": [
  {
   "cell_type": "code",
   "execution_count": null,
   "id": "dc6cff4d",
   "metadata": {},
   "outputs": [
    {
     "name": "stderr",
     "output_type": "stream",
     "text": [
      "  1%|▏         | 33.7M/2.64G [00:09<05:02, 8.62MB/s] "
     ]
    }
   ],
   "source": [
    "import matplotlib.pyplot as plt\n",
    "from torchvision.datasets import STL10\n",
    "from torchvision import transforms\n",
    "from torchvision.utils import make_grid \n",
    "from torch.utils.data import DataLoader\n",
    "\n",
    "# stl_unlabeled_dataset = STL10('./stl10','unlabeled',transform=transforms.ToTensor(), download=True)\n",
    "stl_unlabeled_dataset = STL10('./stl10','unlabeled',transform=transforms.ToTensor(), download=False)\n",
    "sample_dataloader = DataLoader(stl_unlabeled_dataset,shuffle=True, batch_size=9)\n",
    "\n",
    "for d in sample_dataloader:\n",
    "  imgs, labels = d\n",
    "  break\n",
    "  \n",
    "fig = plt.figure(figsize=(10,10))\n",
    "plt.imshow(transforms.ToPILImage(mode='RGB')(make_grid(imgs,nrow=3)))"
   ]
  }
 ],
 "metadata": {
  "kernelspec": {
   "display_name": "simclr-test",
   "language": "python",
   "name": "python3"
  },
  "language_info": {
   "codemirror_mode": {
    "name": "ipython",
    "version": 3
   },
   "file_extension": ".py",
   "mimetype": "text/x-python",
   "name": "python",
   "nbconvert_exporter": "python",
   "pygments_lexer": "ipython3",
   "version": "3.12.11"
  }
 },
 "nbformat": 4,
 "nbformat_minor": 5
}
